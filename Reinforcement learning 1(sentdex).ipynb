{
 "cells": [
  {
   "cell_type": "markdown",
   "id": "pointed-cooper",
   "metadata": {},
   "source": [
    "### Simple demo of an agent taking action in MountainCar environment available in gym"
   ]
  },
  {
   "cell_type": "code",
   "execution_count": 1,
   "id": "french-holiday",
   "metadata": {},
   "outputs": [],
   "source": [
    "import sys\n",
    "sys.path.append('/home/dell/miniconda3/lib/python3.8/site-packages')\n",
    "import gym \n",
    "env=gym.make('MountainCar-v0')\n",
    "env.reset()\n",
    "done=False\n",
    "while not done:\n",
    "    action=2\n",
    "    new_state, reward, done,  _=env.step(action)\n",
    "    env.render()\n",
    "env.close()"
   ]
  },
  {
   "cell_type": "markdown",
   "id": "lonely-bhutan",
   "metadata": {},
   "source": [
    "### Delving into details: Introduction to q_table"
   ]
  },
  {
   "cell_type": "code",
   "execution_count": 2,
   "id": "wrapped-bradley",
   "metadata": {},
   "outputs": [
    {
     "name": "stdout",
     "output_type": "stream",
     "text": [
      "[0.6  0.07]\n",
      "[-1.2  -0.07]\n",
      "3\n",
      "[20, 20]\n",
      "[0.09  0.007]\n",
      "(20, 20, 3)\n"
     ]
    }
   ],
   "source": [
    "import sys\n",
    "sys.path.append('/home/dell/miniconda3/lib/python3.8/site-packages')\n",
    "import gym \n",
    "import numpy as np\n",
    "env=gym.make('MountainCar-v0')\n",
    "env.reset()\n",
    "print(env.observation_space.high)\n",
    "print(env.observation_space.low)\n",
    "print(env.action_space.n)\n",
    "DISCRETE_OS_SIZE=[20] * len(env.observation_space.high)\n",
    "discrete_os_win_size=(env.observation_space.high-env.observation_space.low)/DISCRETE_OS_SIZE\n",
    "print(DISCRETE_OS_SIZE)\n",
    "print(discrete_os_win_size)\n",
    "\n",
    "\n",
    "q_table=np.random.uniform(low=-2,high=0,size=(DISCRETE_OS_SIZE+[env.action_space.n]))\n",
    "print(q_table.shape)\n",
    "done=False\n",
    "while not done:\n",
    "    action=2\n",
    "    new_state, reward, done,  _=env.step(action)\n",
    "    #print(reward)\n",
    "    #print(new_state)\n",
    "    env.render()\n",
    "env.close()"
   ]
  }
 ],
 "metadata": {
  "kernelspec": {
   "display_name": "Python 3",
   "language": "python",
   "name": "python3"
  },
  "language_info": {
   "codemirror_mode": {
    "name": "ipython",
    "version": 3
   },
   "file_extension": ".py",
   "mimetype": "text/x-python",
   "name": "python",
   "nbconvert_exporter": "python",
   "pygments_lexer": "ipython3",
   "version": "3.8.10"
  }
 },
 "nbformat": 4,
 "nbformat_minor": 5
}
