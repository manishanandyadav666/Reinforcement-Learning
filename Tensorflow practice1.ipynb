{
 "cells": [
  {
   "cell_type": "markdown",
   "id": "circular-earth",
   "metadata": {},
   "source": [
    "### Minimizing a certain cost function with tensorflow"
   ]
  },
  {
   "cell_type": "code",
   "execution_count": 1,
   "id": "fifth-drive",
   "metadata": {},
   "outputs": [],
   "source": [
    "import numpy as np\n",
    "import tensorflow as tf"
   ]
  },
  {
   "cell_type": "code",
   "execution_count": 7,
   "id": "empty-essex",
   "metadata": {},
   "outputs": [
    {
     "name": "stdout",
     "output_type": "stream",
     "text": [
      "<tf.Variable 'Variable:0' shape=() dtype=float32, numpy=0.0>\n"
     ]
    }
   ],
   "source": [
    "w= tf.Variable(0, dtype=tf.float32)\n",
    "optimizer= tf.keras.optimizers.Adam(0.1)\n",
    "def train_step():\n",
    "    \n",
    "    with tf.GradientTape() as Tape:\n",
    "        cost= w**2 -10*w+ 25\n",
    "    trainable_variables= [w]\n",
    "    grads= Tape.gradient(cost, trainable_variables)\n",
    "    optimizer.apply_gradients(zip(grads, trainable_variables))\n",
    "print(w)"
   ]
  },
  {
   "cell_type": "code",
   "execution_count": 8,
   "id": "celtic-wound",
   "metadata": {},
   "outputs": [
    {
     "name": "stdout",
     "output_type": "stream",
     "text": [
      "<tf.Variable 'Variable:0' shape=() dtype=float32, numpy=0.09999997>\n"
     ]
    }
   ],
   "source": [
    "train_step()\n",
    "print(w)"
   ]
  },
  {
   "cell_type": "code",
   "execution_count": 9,
   "id": "identical-edmonton",
   "metadata": {},
   "outputs": [
    {
     "name": "stdout",
     "output_type": "stream",
     "text": [
      "<tf.Variable 'Variable:0' shape=() dtype=float32, numpy=5.000001>\n"
     ]
    }
   ],
   "source": [
    "for i in range(1000):\n",
    "    train_step()\n",
    "print(w)"
   ]
  },
  {
   "cell_type": "markdown",
   "id": "legal-enemy",
   "metadata": {},
   "source": [
    "### For defining the variable "
   ]
  },
  {
   "cell_type": "code",
   "execution_count": 18,
   "id": "atomic-slave",
   "metadata": {},
   "outputs": [
    {
     "name": "stdout",
     "output_type": "stream",
     "text": [
      "<tf.Variable 'Variable:0' shape=() dtype=float32, numpy=5.000001>\n"
     ]
    }
   ],
   "source": [
    "w= tf.Variable(0, dtype=tf.float32)\n",
    "x= np.array([1.0, -10.0, 25.0], dtype=np.float32)\n",
    "optimizer= tf.keras.optimizers.Adam(0.1)\n",
    "def training(x, w, optimizer):\n",
    "    \n",
    "    def cost_fn():\n",
    "        return x[0] * w**2 + x[1]*w + x[2]\n",
    "    for i in range(1000):\n",
    "\n",
    "        optimizer.minimize(cost_fn, [w])\n",
    "        \n",
    "    return w\n",
    "w= training(x,w,optimizer)\n",
    "print(w)"
   ]
  },
  {
   "cell_type": "code",
   "execution_count": null,
   "id": "minus-metallic",
   "metadata": {},
   "outputs": [],
   "source": []
  }
 ],
 "metadata": {
  "kernelspec": {
   "display_name": "Python 3",
   "language": "python",
   "name": "python3"
  },
  "language_info": {
   "codemirror_mode": {
    "name": "ipython",
    "version": 3
   },
   "file_extension": ".py",
   "mimetype": "text/x-python",
   "name": "python",
   "nbconvert_exporter": "python",
   "pygments_lexer": "ipython3",
   "version": "3.8.10"
  }
 },
 "nbformat": 4,
 "nbformat_minor": 5
}
